{
  "nbformat": 4,
  "nbformat_minor": 0,
  "metadata": {
    "colab": {
      "provenance": []
    },
    "kernelspec": {
      "name": "python3",
      "display_name": "Python 3"
    },
    "language_info": {
      "name": "python"
    }
  },
  "cells": [
    {
      "cell_type": "code",
      "source": [
        "import tensorflow as tf\n",
        "from keras import optimizers\n",
        "from keras.layers import Dense, Flatten, Dropout, Lambda\n",
        "from keras.models import Sequential\n",
        "import numpy as np"
      ],
      "metadata": {
        "id": "_KcX4WrdlI2G"
      },
      "execution_count": 4,
      "outputs": []
    },
    {
      "cell_type": "code",
      "source": [
        "data_list = []"
      ],
      "metadata": {
        "id": "6RrlKATNr3vK"
      },
      "execution_count": null,
      "outputs": []
    },
    {
      "cell_type": "code",
      "source": [
        "data = tf.keras.datasets.mnist\n",
        "(x_train, y_train), (x_test, y_test) = data.load_data()\n",
        "x_train, x_test = x_train /255.0 , x_test /255.0\n",
        "\n",
        "# create new y data with both classification and regression targets\n",
        "y_train_classification = y_train\n",
        "y_train_regression = np.random.rand(len(y_train)) # replace this with your regression targets\n",
        "y_train_combined = np.column_stack((y_train_classification, y_train_regression))"
      ],
      "metadata": {
        "id": "WRu3ZK82lJBU"
      },
      "execution_count": null,
      "outputs": []
    },
    {
      "cell_type": "code",
      "source": [
        "model = Sequential([\n",
        "    Flatten(input_shape=(28,28)),\n",
        "    Dense(512, activation=tf.nn.relu),\n",
        "    Dense(128, activation=tf.nn.relu),\n",
        "    Dropout(0.2),\n",
        "    Dense(10, activation=tf.nn.softmax)\n",
        "])"
      ],
      "metadata": {
        "id": "m1uex8BqlJJv"
      },
      "execution_count": null,
      "outputs": []
    },
    {
      "cell_type": "code",
      "source": [],
      "metadata": {
        "id": "reUEfrURlJP3"
      },
      "execution_count": null,
      "outputs": []
    },
    {
      "cell_type": "code",
      "source": [
        "\"\"\" You can create a class for multiple custom loss functions of your creation\"\"\"\n",
        "\n",
        "#Example Below\n",
        "class example_loss_func():\n",
        "\n",
        "  def __init__(self, alpha=1.0):\n",
        "\n",
        "    self.alpha = alpha\n",
        "\n",
        "  \"\"\"you can define  the __call__ method in your code\n",
        "  or in another method of your choice\"\"\"\n",
        "\n",
        "  def __Call__(self, y_true, y_pred):\n",
        "  # your function code goes here\n",
        "  # make sure to end with  a return and your function name\n",
        "    pass\n",
        "\n",
        "  def func1(self, y_true, y_pred):\n",
        "  # code for first additional function\n",
        "    pass\n",
        "\n",
        "  def func2(self, y_true, y_pred):\n",
        "  # code for second additional function\n",
        "    pass\n",
        "\n",
        "  def func3(self, y_true, y_pred):\n",
        "  # code for third additional function\n",
        "    pass\n",
        "\n",
        "\"\"\" To use one of these additional functions, you can call the corresponding\n",
        "method on an instance of the class.\"\"\"\n",
        "\n",
        "\"\"\"loss_func = example_loss_func()\n",
        "loss1 = loss_func.func1(y_true, y_pred)\n",
        "loss2 = loss_func.func2(y_true, y_pred)\n",
        "loss3 = loss_func.func3(y_true, y_pred)\"\"\"\n",
        "\n",
        "\n",
        "\n"
      ],
      "metadata": {
        "colab": {
          "base_uri": "https://localhost:8080/",
          "height": 57
        },
        "id": "a2tpwmDfZA1K",
        "outputId": "801eda82-bf78-4f40-961a-dcd4422b77a2"
      },
      "execution_count": null,
      "outputs": [
        {
          "output_type": "execute_result",
          "data": {
            "text/plain": [
              "'loss_func = example_loss_func()\\nloss1 = loss_func.func1(y_true, y_pred)\\nloss2 = loss_func.func2(y_true, y_pred)\\nloss3 = loss_func.func3(y_true, y_pred)'"
            ],
            "application/vnd.google.colaboratory.intrinsic+json": {
              "type": "string"
            }
          },
          "metadata": {},
          "execution_count": 34
        }
      ]
    },
    {
      "cell_type": "code",
      "execution_count": null,
      "metadata": {
        "id": "sUPi0gpDYta_"
      },
      "outputs": [],
      "source": [
        "\"\"\" Combination of loss functions is possible. You don't need to use one at a time\n",
        "you can combine them doing it like this.\"\"\"\n",
        "\n",
        "# Credit goes to Bing AI by Microsoft, for this teaching.\n",
        "\n",
        "def combined_loss(y_true, y_pred, classification_weight=0.5, regression_weight=0.5):\n",
        "    # Split true and predicted values into classification and regression parts\n",
        "    y_true_classification = y_true[:, 0]\n",
        "    y_true_regression = y_true[:, 1]\n",
        "    y_pred_classification = y_pred[:, 0]\n",
        "    y_pred_regression = y_pred[:, 1]\n",
        "\n",
        "    # Compute binary cross-entropy loss for classification task\n",
        "    classification_loss = tf.keras.losses.binary_crossentropy(y_true_classification, y_pred_classification)\n",
        "\n",
        "    # Compute mean squared error loss for regression task\n",
        "    regression_loss = tf.keras.losses.mean_squared_error(y_true_regression, y_pred_regression)\n",
        "\n",
        "    # Combine the two losses using a weighted sum\n",
        "    return classification_weight * classification_loss + regression_weight * regression_loss"
      ]
    },
    {
      "cell_type": "code",
      "source": [
        "\n"
      ],
      "metadata": {
        "id": "xyGabzemqK19"
      },
      "execution_count": null,
      "outputs": []
    },
    {
      "cell_type": "code",
      "source": [
        "# Siemis contrastive loss function\n",
        "\n",
        "def contrastive_loss(y_true, y_pred):\n",
        "  margin = 1\n",
        "\n",
        "  square_pred = K.square(y_pred)\n",
        "  margin_square = K.square(K.maximum(marign - y_pred, 0))\n",
        "  return (y_true * square_pred + (1 - y_true) * margin_square)\n",
        "\n",
        "  y_true * y_pred ** 2 + (1 - y_true) * max(margin - y_pred, 0) ** 2\n",
        "  # Euclieanden formula Y * D ** 2 + (1 - D) * max(margin - D, 0) ** 2\n",
        "\n",
        "  # Y is the tensor of detail of image similiarities\n",
        "  # D is the tensor of Euclieaden distances\n",
        "  # margin is a minium distance to consider them the same or different\n",
        "\n"
      ],
      "metadata": {
        "id": "Vxq-vB9fEuYV"
      },
      "execution_count": null,
      "outputs": []
    },
    {
      "cell_type": "code",
      "source": [
        "def my_relu(x):\n",
        "  return K.maximum(0.0, x)\n",
        "\n",
        "  model = Sequential([\n",
        "      Flatten(input_shape=(28,28)),\n",
        "      Dense(128),\n",
        "      Lambda(my_relu),\n",
        "      Dense(10, activation='softmax'),\n",
        "  ])"
      ],
      "metadata": {
        "id": "Nm7hcFLqk1tm"
      },
      "execution_count": 3,
      "outputs": []
    }
  ]
}